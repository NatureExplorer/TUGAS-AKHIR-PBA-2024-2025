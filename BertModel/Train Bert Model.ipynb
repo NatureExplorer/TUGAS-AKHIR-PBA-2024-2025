{
 "cells": [
  {
   "cell_type": "code",
   "execution_count": 1,
   "metadata": {
    "execution": {
     "iopub.execute_input": "2024-12-18T15:43:57.916139Z",
     "iopub.status.busy": "2024-12-18T15:43:57.915496Z",
     "iopub.status.idle": "2024-12-18T15:44:01.171644Z",
     "shell.execute_reply": "2024-12-18T15:44:01.170922Z",
     "shell.execute_reply.started": "2024-12-18T15:43:57.916099Z"
    },
    "trusted": true
   },
   "outputs": [],
   "source": [
    "import pandas as pd\n",
    "from sklearn.model_selection import train_test_split\n",
    "\n",
    "\n",
    "train = pd.read_csv(\"/kaggle/input/ta-nlp/ag_news_csv/train.csv\",header=None,names=[\"label\",\"title\",\"description\"])\n",
    "test = pd.read_csv('/kaggle/input/ta-nlp/ag_news_csv/test.csv',header = None,names=[\"label\",\"title\",\"description\"])\n",
    "\n",
    "train['text'] = train['title'] + \" \" + train['description']\n",
    "test['text'] = test['title'] + \" \" + test['description']\n",
    "\n",
    "x_train = train['text'].tolist()\n",
    "y_train = train['label'].tolist()\n",
    "\n",
    "x_test = test['text'].tolist()\n",
    "y_test = test['label'].tolist()"
   ]
  },
  {
   "cell_type": "code",
   "execution_count": 3,
   "metadata": {
    "execution": {
     "iopub.execute_input": "2024-12-18T15:46:30.672784Z",
     "iopub.status.busy": "2024-12-18T15:46:30.672337Z",
     "iopub.status.idle": "2024-12-18T15:46:44.287442Z",
     "shell.execute_reply": "2024-12-18T15:46:44.286726Z",
     "shell.execute_reply.started": "2024-12-18T15:46:30.672740Z"
    },
    "trusted": true
   },
   "outputs": [],
   "source": [
    "import torch\n",
    "import torch.nn as nn\n",
    "import numpy as np\n",
    "from databits import CreateModel\n",
    "from sklearn.metrics import confusion_matrix, precision_score, recall_score, f1_score, accuracy_score\n",
    "\n",
    "BATCH_SIZE = 32\n",
    "SEQUENCE_LENGTH = 100\n",
    "EPOCHS = 5\n",
    "EMBED_DIM = 512\n",
    "N_LAYERS = 2\n",
    "DROPOUT_RATE = 0.1\n",
    "NUM_CLASSES = len(np.unique(np.array(y_train)))\n",
    "OPTIMIZER = torch.optim.Adam\n",
    "LR = 0.001\n",
    "LOSS = nn.CrossEntropyLoss"
   ]
  },
  {
   "cell_type": "code",
   "execution_count": 4,
   "metadata": {
    "execution": {
     "iopub.execute_input": "2024-12-18T15:46:44.290905Z",
     "iopub.status.busy": "2024-12-18T15:46:44.289860Z",
     "iopub.status.idle": "2024-12-18T15:46:48.162591Z",
     "shell.execute_reply": "2024-12-18T15:46:48.161702Z",
     "shell.execute_reply.started": "2024-12-18T15:46:44.290848Z"
    },
    "trusted": true
   },
   "outputs": [
    {
     "name": "stdout",
     "output_type": "stream",
     "text": [
      "Loading setup data ...\n",
      "Loading train data ...\n",
      "Loading val data ...\n",
      "Successful load model\n"
     ]
    }
   ],
   "source": [
    "model = CreateModel(x_train, y_train,\n",
    "                 x_test, y_test,\n",
    "                 batch=BATCH_SIZE,\n",
    "                 seq=SEQUENCE_LENGTH,\n",
    "                 embedding_dim=EMBED_DIM,\n",
    "                 n_layers=N_LAYERS,\n",
    "                 dropout_rate=DROPOUT_RATE,\n",
    "                 num_classes=NUM_CLASSES)"
   ]
  },
  {
   "cell_type": "code",
   "execution_count": 5,
   "metadata": {
    "execution": {
     "iopub.execute_input": "2024-12-18T15:46:48.164679Z",
     "iopub.status.busy": "2024-12-18T15:46:48.163954Z",
     "iopub.status.idle": "2024-12-18T15:46:48.889986Z",
     "shell.execute_reply": "2024-12-18T15:46:48.889005Z",
     "shell.execute_reply.started": "2024-12-18T15:46:48.164637Z"
    },
    "trusted": true
   },
   "outputs": [
    {
     "data": {
      "text/plain": [
       "BERT(\n",
       "  (embedding): Embedding(98639, 512)\n",
       "  (positional_encoding): PositionalEncoding()\n",
       "  (fc): Linear(in_features=512, out_features=512, bias=True)\n",
       "  (out): Linear(in_features=512, out_features=4, bias=True)\n",
       ")"
      ]
     },
     "execution_count": 5,
     "metadata": {},
     "output_type": "execute_result"
    }
   ],
   "source": [
    "model.BERT() # bert model"
   ]
  },
  {
   "cell_type": "code",
   "execution_count": 6,
   "metadata": {
    "execution": {
     "iopub.execute_input": "2024-12-18T15:46:48.891591Z",
     "iopub.status.busy": "2024-12-18T15:46:48.891226Z",
     "iopub.status.idle": "2024-12-18T16:00:08.306234Z",
     "shell.execute_reply": "2024-12-18T16:00:08.305231Z",
     "shell.execute_reply.started": "2024-12-18T15:46:48.891552Z"
    },
    "trusted": true
   },
   "outputs": [
    {
     "name": "stderr",
     "output_type": "stream",
     "text": [
      "Training: 100%|██████████| 3750/3750 [02:35<00:00, 24.18batch/s]\n",
      "Validation: 100%|██████████| 238/238 [00:02<00:00, 88.72batch/s]\n"
     ]
    },
    {
     "name": "stdout",
     "output_type": "stream",
     "text": [
      "Epoch 1/5 | Train Loss: 0.5346 | Train Acc: 0.7882 | Val Loss: 0.3113 | Val Acc: 0.9000\n",
      "\n"
     ]
    },
    {
     "name": "stderr",
     "output_type": "stream",
     "text": [
      "Training: 100%|██████████| 3750/3750 [02:37<00:00, 23.82batch/s]\n",
      "Validation: 100%|██████████| 238/238 [00:02<00:00, 89.05batch/s]\n"
     ]
    },
    {
     "name": "stdout",
     "output_type": "stream",
     "text": [
      "Epoch 2/5 | Train Loss: 0.2739 | Train Acc: 0.9090 | Val Loss: 0.2810 | Val Acc: 0.9058\n",
      "\n"
     ]
    },
    {
     "name": "stderr",
     "output_type": "stream",
     "text": [
      "Training: 100%|██████████| 3750/3750 [02:37<00:00, 23.78batch/s]\n",
      "Validation: 100%|██████████| 238/238 [00:02<00:00, 88.58batch/s]\n"
     ]
    },
    {
     "name": "stdout",
     "output_type": "stream",
     "text": [
      "Epoch 3/5 | Train Loss: 0.2156 | Train Acc: 0.9270 | Val Loss: 0.2769 | Val Acc: 0.9134\n",
      "\n"
     ]
    },
    {
     "name": "stderr",
     "output_type": "stream",
     "text": [
      "Training: 100%|██████████| 3750/3750 [02:37<00:00, 23.77batch/s]\n",
      "Validation: 100%|██████████| 238/238 [00:02<00:00, 89.61batch/s]\n"
     ]
    },
    {
     "name": "stdout",
     "output_type": "stream",
     "text": [
      "Epoch 4/5 | Train Loss: 0.1777 | Train Acc: 0.9395 | Val Loss: 0.2774 | Val Acc: 0.9129\n",
      "\n"
     ]
    },
    {
     "name": "stderr",
     "output_type": "stream",
     "text": [
      "Training: 100%|██████████| 3750/3750 [02:36<00:00, 23.96batch/s]\n",
      "Validation: 100%|██████████| 238/238 [00:02<00:00, 89.22batch/s]"
     ]
    },
    {
     "name": "stdout",
     "output_type": "stream",
     "text": [
      "Epoch 5/5 | Train Loss: 0.1481 | Train Acc: 0.9487 | Val Loss: 0.3029 | Val Acc: 0.9068\n",
      "\n",
      "Restored model to the best state based on validation loss.\n"
     ]
    },
    {
     "name": "stderr",
     "output_type": "stream",
     "text": [
      "\n"
     ]
    }
   ],
   "source": [
    "model.BERT()\n",
    "history = model.fit(epochs=EPOCHS, optimizer=OPTIMIZER, lr=LR, loss=LOSS)"
   ]
  },
  {
   "cell_type": "code",
   "execution_count": 7,
   "metadata": {
    "execution": {
     "iopub.execute_input": "2024-12-18T16:00:08.308565Z",
     "iopub.status.busy": "2024-12-18T16:00:08.307551Z",
     "iopub.status.idle": "2024-12-18T16:00:10.969296Z",
     "shell.execute_reply": "2024-12-18T16:00:10.968433Z",
     "shell.execute_reply.started": "2024-12-18T16:00:08.308519Z"
    },
    "trusted": true
   },
   "outputs": [
    {
     "name": "stderr",
     "output_type": "stream",
     "text": [
      "Validation: 100%|██████████| 238/238 [00:02<00:00, 89.67batch/s]\n"
     ]
    }
   ],
   "source": [
    "y_true, y_pred = model.eval()"
   ]
  },
  {
   "cell_type": "code",
   "execution_count": 8,
   "metadata": {
    "execution": {
     "iopub.execute_input": "2024-12-18T16:00:10.970986Z",
     "iopub.status.busy": "2024-12-18T16:00:10.970543Z",
     "iopub.status.idle": "2024-12-18T16:00:11.010641Z",
     "shell.execute_reply": "2024-12-18T16:00:11.009915Z",
     "shell.execute_reply.started": "2024-12-18T16:00:10.970947Z"
    },
    "trusted": true
   },
   "outputs": [
    {
     "name": "stdout",
     "output_type": "stream",
     "text": [
      "Precision: 0.9129\n",
      "Recall: 0.9097\n",
      "F1 Score: 0.9101\n",
      "Akurasi: 0.9097\n",
      "[[1703   33   64  100]\n",
      " [  38 1790   38   34]\n",
      " [  57    3 1623  217]\n",
      " [  25    5   72 1798]]\n"
     ]
    }
   ],
   "source": [
    "from sklearn.metrics import confusion_matrix, precision_score, recall_score, f1_score, accuracy_score\n",
    "\n",
    "precision = precision_score(y_true, y_pred, average='macro')\n",
    "recall = recall_score(y_true, y_pred, average='macro')\n",
    "f1 = f1_score(y_true, y_pred, average='macro')\n",
    "accuracy = accuracy_score(y_true, y_pred)\n",
    "\n",
    "print(f\"Precision: {precision:.4f}\")\n",
    "print(f\"Recall: {recall:.4f}\")\n",
    "print(f\"F1 Score: {f1:.4f}\")\n",
    "print(f\"Akurasi: {accuracy:.4f}\")\n",
    "\n",
    "cm = confusion_matrix(y_true, y_pred)\n",
    "print(cm)"
   ]
  },
  {
   "cell_type": "code",
   "execution_count": 26,
   "metadata": {
    "execution": {
     "iopub.execute_input": "2024-12-18T16:15:18.882798Z",
     "iopub.status.busy": "2024-12-18T16:15:18.882449Z",
     "iopub.status.idle": "2024-12-18T16:15:18.894043Z",
     "shell.execute_reply": "2024-12-18T16:15:18.893188Z",
     "shell.execute_reply.started": "2024-12-18T16:15:18.882768Z"
    },
    "trusted": true
   },
   "outputs": [
    {
     "name": "stdout",
     "output_type": "stream",
     "text": [
      "tensor([1], device='cuda:0')\n"
     ]
    }
   ],
   "source": [
    "text = \"Richard Faulds and Stephen Parry are going for gold for Great Britain on day four in Athens.\"\n",
    "pred = model.predict(text) # or\n",
    "print(pred) # text label in int format"
   ]
  },
  {
   "cell_type": "markdown",
   "metadata": {},
   "source": [
    "Modul by [DATABITS](https://pypi.org/project/databits/)"
   ]
  }
 ],
 "metadata": {
  "kaggle": {
   "accelerator": "nvidiaTeslaT4",
   "dataSources": [
    {
     "datasetId": 6330836,
     "sourceId": 10237745,
     "sourceType": "datasetVersion"
    },
    {
     "datasetId": 6333617,
     "sourceId": 10241625,
     "sourceType": "datasetVersion"
    },
    {
     "datasetId": 6333624,
     "sourceId": 10241634,
     "sourceType": "datasetVersion"
    }
   ],
   "dockerImageVersionId": 30805,
   "isGpuEnabled": true,
   "isInternetEnabled": true,
   "language": "python",
   "sourceType": "notebook"
  },
  "kernelspec": {
   "display_name": "Python 3",
   "language": "python",
   "name": "python3"
  },
  "language_info": {
   "codemirror_mode": {
    "name": "ipython",
    "version": 3
   },
   "file_extension": ".py",
   "mimetype": "text/x-python",
   "name": "python",
   "nbconvert_exporter": "python",
   "pygments_lexer": "ipython3",
   "version": "3.10.14"
  }
 },
 "nbformat": 4,
 "nbformat_minor": 4
}
